{
 "cells": [
  {
   "cell_type": "code",
   "execution_count": 1,
   "metadata": {},
   "outputs": [
    {
     "name": "stderr",
     "output_type": "stream",
     "text": [
      "\n",
      "[notice] A new release of pip is available: 23.1.2 -> 24.2\n",
      "[notice] To update, run: python.exe -m pip install --upgrade pip\n"
     ]
    },
    {
     "name": "stdout",
     "output_type": "stream",
     "text": [
      "Requirement already satisfied: roboflow in c:\\users\\kikep\\onedrive\\documentos\\insper_data\\2024.2\\car-counter\\env\\lib\\site-packages (1.1.47)\n",
      "Requirement already satisfied: certifi in c:\\users\\kikep\\onedrive\\documentos\\insper_data\\2024.2\\car-counter\\env\\lib\\site-packages (from roboflow) (2024.8.30)\n",
      "Requirement already satisfied: idna==3.7 in c:\\users\\kikep\\onedrive\\documentos\\insper_data\\2024.2\\car-counter\\env\\lib\\site-packages (from roboflow) (3.7)\n",
      "Requirement already satisfied: cycler in c:\\users\\kikep\\onedrive\\documentos\\insper_data\\2024.2\\car-counter\\env\\lib\\site-packages (from roboflow) (0.12.1)\n",
      "Requirement already satisfied: kiwisolver>=1.3.1 in c:\\users\\kikep\\onedrive\\documentos\\insper_data\\2024.2\\car-counter\\env\\lib\\site-packages (from roboflow) (1.4.7)\n",
      "Requirement already satisfied: matplotlib in c:\\users\\kikep\\onedrive\\documentos\\insper_data\\2024.2\\car-counter\\env\\lib\\site-packages (from roboflow) (3.9.2)\n",
      "Requirement already satisfied: numpy>=1.18.5 in c:\\users\\kikep\\onedrive\\documentos\\insper_data\\2024.2\\car-counter\\env\\lib\\site-packages (from roboflow) (1.26.4)\n",
      "Requirement already satisfied: opencv-python-headless==4.10.0.84 in c:\\users\\kikep\\onedrive\\documentos\\insper_data\\2024.2\\car-counter\\env\\lib\\site-packages (from roboflow) (4.10.0.84)\n",
      "Requirement already satisfied: Pillow>=7.1.2 in c:\\users\\kikep\\onedrive\\documentos\\insper_data\\2024.2\\car-counter\\env\\lib\\site-packages (from roboflow) (10.4.0)\n",
      "Requirement already satisfied: python-dateutil in c:\\users\\kikep\\onedrive\\documentos\\insper_data\\2024.2\\car-counter\\env\\lib\\site-packages (from roboflow) (2.9.0.post0)\n",
      "Requirement already satisfied: python-dotenv in c:\\users\\kikep\\onedrive\\documentos\\insper_data\\2024.2\\car-counter\\env\\lib\\site-packages (from roboflow) (1.0.1)\n",
      "Requirement already satisfied: requests in c:\\users\\kikep\\onedrive\\documentos\\insper_data\\2024.2\\car-counter\\env\\lib\\site-packages (from roboflow) (2.32.3)\n",
      "Requirement already satisfied: six in c:\\users\\kikep\\onedrive\\documentos\\insper_data\\2024.2\\car-counter\\env\\lib\\site-packages (from roboflow) (1.16.0)\n",
      "Requirement already satisfied: urllib3>=1.26.6 in c:\\users\\kikep\\onedrive\\documentos\\insper_data\\2024.2\\car-counter\\env\\lib\\site-packages (from roboflow) (2.2.2)\n",
      "Requirement already satisfied: tqdm>=4.41.0 in c:\\users\\kikep\\onedrive\\documentos\\insper_data\\2024.2\\car-counter\\env\\lib\\site-packages (from roboflow) (4.66.5)\n",
      "Requirement already satisfied: PyYAML>=5.3.1 in c:\\users\\kikep\\onedrive\\documentos\\insper_data\\2024.2\\car-counter\\env\\lib\\site-packages (from roboflow) (6.0.2)\n",
      "Requirement already satisfied: requests-toolbelt in c:\\users\\kikep\\onedrive\\documentos\\insper_data\\2024.2\\car-counter\\env\\lib\\site-packages (from roboflow) (1.0.0)\n",
      "Requirement already satisfied: filetype in c:\\users\\kikep\\onedrive\\documentos\\insper_data\\2024.2\\car-counter\\env\\lib\\site-packages (from roboflow) (1.2.0)\n",
      "Requirement already satisfied: colorama in c:\\users\\kikep\\onedrive\\documentos\\insper_data\\2024.2\\car-counter\\env\\lib\\site-packages (from tqdm>=4.41.0->roboflow) (0.4.6)\n",
      "Requirement already satisfied: contourpy>=1.0.1 in c:\\users\\kikep\\onedrive\\documentos\\insper_data\\2024.2\\car-counter\\env\\lib\\site-packages (from matplotlib->roboflow) (1.3.0)\n",
      "Requirement already satisfied: fonttools>=4.22.0 in c:\\users\\kikep\\onedrive\\documentos\\insper_data\\2024.2\\car-counter\\env\\lib\\site-packages (from matplotlib->roboflow) (4.53.1)\n",
      "Requirement already satisfied: packaging>=20.0 in c:\\users\\kikep\\onedrive\\documentos\\insper_data\\2024.2\\car-counter\\env\\lib\\site-packages (from matplotlib->roboflow) (24.1)\n",
      "Requirement already satisfied: pyparsing>=2.3.1 in c:\\users\\kikep\\onedrive\\documentos\\insper_data\\2024.2\\car-counter\\env\\lib\\site-packages (from matplotlib->roboflow) (3.1.4)\n",
      "Requirement already satisfied: charset-normalizer<4,>=2 in c:\\users\\kikep\\onedrive\\documentos\\insper_data\\2024.2\\car-counter\\env\\lib\\site-packages (from requests->roboflow) (3.3.2)\n",
      "loading Roboflow workspace...\n",
      "loading Roboflow project...\n"
     ]
    },
    {
     "name": "stderr",
     "output_type": "stream",
     "text": [
      "Downloading Dataset Version Zip in Car-Counter-3 to yolov11:: 100%|██████████| 172461/172461 [00:12<00:00, 13683.68it/s]"
     ]
    },
    {
     "name": "stdout",
     "output_type": "stream",
     "text": [
      "\n"
     ]
    },
    {
     "name": "stderr",
     "output_type": "stream",
     "text": [
      "\n",
      "Extracting Dataset Version Zip to Car-Counter-3 in yolov11:: 100%|██████████| 7622/7622 [00:06<00:00, 1259.24it/s]\n"
     ]
    }
   ],
   "source": [
    "from roboflow import Roboflow"
   ]
  },
  {
   "cell_type": "code",
   "execution_count": null,
   "metadata": {},
   "outputs": [],
   "source": [
    "rf = Roboflow(api_key=\"pLADNgYzu0gPbPstDHtz\")\n",
    "project = rf.workspace(\"carcounter-7mp90\").project(\"car-counter-kbqtm\")\n",
    "version = project.version(3)\n",
    "dataset = version.download(\"yolov11\")"
   ]
  },
  {
   "cell_type": "code",
   "execution_count": 3,
   "metadata": {},
   "outputs": [
    {
     "name": "stdout",
     "output_type": "stream",
     "text": [
      "[WinError 2] The system cannot find the file specified: '{HOME}'\n",
      "c:\\Users\\kikep\\OneDrive\\Documentos\\Insper_Data\\2024.2\\car-counter\n"
     ]
    },
    {
     "name": "stderr",
     "output_type": "stream",
     "text": [
      "This is now an optional IPython functionality, using bookmarks requires you to install the `pickleshare` library.\n"
     ]
    },
    {
     "ename": "",
     "evalue": "",
     "output_type": "error",
     "traceback": [
      "\u001b[1;31mThe Kernel crashed while executing code in the current cell or a previous cell. \n",
      "\u001b[1;31mPlease review the code in the cell(s) to identify a possible cause of the failure. \n",
      "\u001b[1;31mClick <a href='https://aka.ms/vscodeJupyterKernelCrash'>here</a> for more info. \n",
      "\u001b[1;31mView Jupyter <a href='command:jupyter.viewOutput'>log</a> for further details."
     ]
    }
   ],
   "source": [
    "!yolo task=detect mode=train model=yolov8s.pt data={dataset.location}/data.yaml epochs=25 imgsz=800"
   ]
  }
 ],
 "metadata": {
  "kernelspec": {
   "display_name": "env",
   "language": "python",
   "name": "python3"
  },
  "language_info": {
   "codemirror_mode": {
    "name": "ipython",
    "version": 3
   },
   "file_extension": ".py",
   "mimetype": "text/x-python",
   "name": "python",
   "nbconvert_exporter": "python",
   "pygments_lexer": "ipython3",
   "version": "3.11.4"
  }
 },
 "nbformat": 4,
 "nbformat_minor": 2
}
