{
 "cells": [
  {
   "cell_type": "code",
   "execution_count": 8,
   "metadata": {},
   "outputs": [],
   "source": [
    "from roboflow import Roboflow"
   ]
  },
  {
   "cell_type": "code",
   "execution_count": null,
   "metadata": {},
   "outputs": [],
   "source": [
    "rf = Roboflow(api_key=\"pLADNgYzu0gPbPstDHtz\")\n",
    "project = rf.workspace(\"carcounter-7mp90\").project(\"car-counter-kbqtm\")\n",
    "version = project.version(3)\n",
    "dataset = version.download(\"yolov11\")"
   ]
  },
  {
   "cell_type": "code",
   "execution_count": null,
   "metadata": {},
   "outputs": [],
   "source": [
    "!yolo task=detect mode=train model=yolov10n.pt data={dataset.location}/data.yaml epochs=25 imgsz=800"
   ]
  },
  {
   "cell_type": "code",
   "execution_count": null,
   "metadata": {},
   "outputs": [],
   "source": [
    "!yolo task=detect mode=val model=C:\\Users\\kikep\\OneDrive\\Documentos\\Insper_Data\\2024.2\\car-counter\\runs\\detect\\train\\weights\\best.pt data={dataset.location}/data.yaml"
   ]
  },
  {
   "cell_type": "code",
   "execution_count": null,
   "metadata": {},
   "outputs": [],
   "source": [
    "!yolo task=detect mode=predict model=C:\\Users\\kikep\\OneDrive\\Documentos\\Insper_Data\\2024.2\\car-counter\\runs\\detect\\train\\weights\\best.pt conf=0.25 source={dataset.location}/test/images"
   ]
  },
  {
   "cell_type": "code",
   "execution_count": null,
   "metadata": {},
   "outputs": [],
   "source": [
    "!yolo task=detect mode=predict model=C:\\Users\\kikep\\OneDrive\\Documentos\\Insper_Data\\2024.2\\car-counter\\runs\\detect\\train\\weights\\best.pt conf=0.359 source=C:\\Users\\kikep\\OneDrive\\Documentos\\Insper_Data\\2024.2\\car-counter\\data\\video_taina.mp4"
   ]
  },
  {
   "cell_type": "code",
   "execution_count": 2,
   "metadata": {},
   "outputs": [],
   "source": [
    "from ultralytics import YOLO\n",
    "model = YOLO(\"50_epochs/best.pt\")"
   ]
  },
  {
   "cell_type": "code",
   "execution_count": null,
   "metadata": {},
   "outputs": [],
   "source": [
    "results = model.predict(\"data/Lukka.mp4\", save=True, conf=0.523)"
   ]
  },
  {
   "cell_type": "code",
   "execution_count": null,
   "metadata": {},
   "outputs": [],
   "source": [
    "metrics = model.val(data=\"Car-Counter-3\\data.yaml\")"
   ]
  },
  {
   "cell_type": "code",
   "execution_count": null,
   "metadata": {},
   "outputs": [],
   "source": [
    "model.predict(\"data/Video_Uberabinha.mp4\", save=True, conf=0.523)"
   ]
  },
  {
   "cell_type": "code",
   "execution_count": 8,
   "metadata": {},
   "outputs": [],
   "source": [
    "from ultralytics import YOLO\n",
    "from IPython.display import clear_output\n",
    "\n",
    "model = YOLO(\"50_epochs/best.pt\")"
   ]
  },
  {
   "cell_type": "code",
   "execution_count": 9,
   "metadata": {},
   "outputs": [],
   "source": [
    "def run_model(PATH, CONF, SAVE):\n",
    "\n",
    "    list_result = []\n",
    "    result = model(source=PATH, conf=CONF, save=SAVE)\n",
    "    clear_output()\n",
    "\n",
    "    boxes_xywh = result[0].boxes.xywh.cpu().tolist()\n",
    "\n",
    "    dict_mod = {0: 'bicycle', 1: 'car', 2: 'motorbike', 3: 'person'}\n",
    "\n",
    "    for i, coords in enumerate(boxes_xywh):\n",
    "        mod = dict_mod[(result[0].boxes.cls.cpu().tolist()[i])]\n",
    "        list_result.append((mod, coords))\n",
    "\n",
    "    return list_result"
   ]
  },
  {
   "cell_type": "code",
   "execution_count": 10,
   "metadata": {},
   "outputs": [
    {
     "data": {
      "text/plain": [
       "[('car',\n",
       "  [172.47605895996094,\n",
       "   101.83799743652344,\n",
       "   76.43307495117188,\n",
       "   66.74356842041016]),\n",
       " ('car',\n",
       "  [282.97894287109375,\n",
       "   207.74729919433594,\n",
       "   67.222900390625,\n",
       "   50.394561767578125]),\n",
       " ('person',\n",
       "  [216.58673095703125,\n",
       "   316.00830078125,\n",
       "   29.117477416992188,\n",
       "   29.345916748046875]),\n",
       " ('person',\n",
       "  [226.12939453125, 83.35247039794922, 21.4647216796875, 29.26300048828125]),\n",
       " ('car',\n",
       "  [301.47412109375, 584.9078979492188, 75.27145385742188, 30.1842041015625]),\n",
       " ('person',\n",
       "  [215.0288543701172,\n",
       "   248.98550415039062,\n",
       "   25.759735107421875,\n",
       "   24.842727661132812]),\n",
       " ('person',\n",
       "  [178.06466674804688,\n",
       "   227.325439453125,\n",
       "   25.789993286132812,\n",
       "   31.686309814453125]),\n",
       " ('person',\n",
       "  [258.9172668457031,\n",
       "   253.73968505859375,\n",
       "   25.374282836914062,\n",
       "   26.374771118164062]),\n",
       " ('person',\n",
       "  [230.4049072265625,\n",
       "   253.19012451171875,\n",
       "   25.61297607421875,\n",
       "   26.946701049804688]),\n",
       " ('car',\n",
       "  [330.41162109375,\n",
       "   100.80585479736328,\n",
       "   36.178985595703125,\n",
       "   43.94004821777344]),\n",
       " ('person',\n",
       "  [315.91070556640625,\n",
       "   380.9498596191406,\n",
       "   30.725006103515625,\n",
       "   23.06451416015625]),\n",
       " ('person',\n",
       "  [234.73988342285156,\n",
       "   96.42825317382812,\n",
       "   21.54034423828125,\n",
       "   23.80382537841797])]"
      ]
     },
     "execution_count": 10,
     "metadata": {},
     "output_type": "execute_result"
    }
   ],
   "source": [
    "run_model(\"./frames/frame_10.png\", 0.523, False)"
   ]
  },
  {
   "cell_type": "code",
   "execution_count": null,
   "metadata": {},
   "outputs": [],
   "source": []
  }
 ],
 "metadata": {
  "kernelspec": {
   "display_name": "env",
   "language": "python",
   "name": "python3"
  },
  "language_info": {
   "codemirror_mode": {
    "name": "ipython",
    "version": 3
   },
   "file_extension": ".py",
   "mimetype": "text/x-python",
   "name": "python",
   "nbconvert_exporter": "python",
   "pygments_lexer": "ipython3",
   "version": "3.11.4"
  }
 },
 "nbformat": 4,
 "nbformat_minor": 2
}
